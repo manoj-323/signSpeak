{
  "metadata": {
    "kernelspec": {
      "display_name": "Python 3",
      "name": "python3"
    },
    "language_info": {
      "name": "python",
      "version": "3.10.12",
      "mimetype": "text/x-python",
      "codemirror_mode": {
        "name": "ipython",
        "version": 3
      },
      "pygments_lexer": "ipython3",
      "nbconvert_exporter": "python",
      "file_extension": ".py"
    },
    "kaggle": {
      "accelerator": "none",
      "dataSources": [
        {
          "sourceId": 10819534,
          "sourceType": "datasetVersion",
          "datasetId": 6717591
        },
        {
          "sourceId": 10828190,
          "sourceType": "datasetVersion",
          "datasetId": 6723607
        }
      ],
      "dockerImageVersionId": 30918,
      "isInternetEnabled": true,
      "language": "python",
      "sourceType": "notebook",
      "isGpuEnabled": false
    },
    "colab": {
      "provenance": [],
      "gpuType": "T4"
    },
    "accelerator": "GPU"
  },
  "nbformat_minor": 0,
  "nbformat": 4,
  "cells": [
    {
      "cell_type": "code",
      "source": [
        "from google.colab import files"
      ],
      "metadata": {
        "id": "CycYEILU5Jbd"
      },
      "execution_count": 1,
      "outputs": []
    },
    {
      "cell_type": "code",
      "source": [
        "files.upload()"
      ],
      "metadata": {
        "colab": {
          "base_uri": "https://localhost:8080/",
          "height": 90
        },
        "id": "ObiustDb5JZO",
        "outputId": "2c3458e9-4645-4b67-b847-6566e3c09c4a"
      },
      "execution_count": 2,
      "outputs": [
        {
          "output_type": "display_data",
          "data": {
            "text/plain": [
              "<IPython.core.display.HTML object>"
            ],
            "text/html": [
              "\n",
              "     <input type=\"file\" id=\"files-66750a10-1f76-4d25-bd4d-cbbd9120ce0a\" name=\"files[]\" multiple disabled\n",
              "        style=\"border:none\" />\n",
              "     <output id=\"result-66750a10-1f76-4d25-bd4d-cbbd9120ce0a\">\n",
              "      Upload widget is only available when the cell has been executed in the\n",
              "      current browser session. Please rerun this cell to enable.\n",
              "      </output>\n",
              "      <script>// Copyright 2017 Google LLC\n",
              "//\n",
              "// Licensed under the Apache License, Version 2.0 (the \"License\");\n",
              "// you may not use this file except in compliance with the License.\n",
              "// You may obtain a copy of the License at\n",
              "//\n",
              "//      http://www.apache.org/licenses/LICENSE-2.0\n",
              "//\n",
              "// Unless required by applicable law or agreed to in writing, software\n",
              "// distributed under the License is distributed on an \"AS IS\" BASIS,\n",
              "// WITHOUT WARRANTIES OR CONDITIONS OF ANY KIND, either express or implied.\n",
              "// See the License for the specific language governing permissions and\n",
              "// limitations under the License.\n",
              "\n",
              "/**\n",
              " * @fileoverview Helpers for google.colab Python module.\n",
              " */\n",
              "(function(scope) {\n",
              "function span(text, styleAttributes = {}) {\n",
              "  const element = document.createElement('span');\n",
              "  element.textContent = text;\n",
              "  for (const key of Object.keys(styleAttributes)) {\n",
              "    element.style[key] = styleAttributes[key];\n",
              "  }\n",
              "  return element;\n",
              "}\n",
              "\n",
              "// Max number of bytes which will be uploaded at a time.\n",
              "const MAX_PAYLOAD_SIZE = 100 * 1024;\n",
              "\n",
              "function _uploadFiles(inputId, outputId) {\n",
              "  const steps = uploadFilesStep(inputId, outputId);\n",
              "  const outputElement = document.getElementById(outputId);\n",
              "  // Cache steps on the outputElement to make it available for the next call\n",
              "  // to uploadFilesContinue from Python.\n",
              "  outputElement.steps = steps;\n",
              "\n",
              "  return _uploadFilesContinue(outputId);\n",
              "}\n",
              "\n",
              "// This is roughly an async generator (not supported in the browser yet),\n",
              "// where there are multiple asynchronous steps and the Python side is going\n",
              "// to poll for completion of each step.\n",
              "// This uses a Promise to block the python side on completion of each step,\n",
              "// then passes the result of the previous step as the input to the next step.\n",
              "function _uploadFilesContinue(outputId) {\n",
              "  const outputElement = document.getElementById(outputId);\n",
              "  const steps = outputElement.steps;\n",
              "\n",
              "  const next = steps.next(outputElement.lastPromiseValue);\n",
              "  return Promise.resolve(next.value.promise).then((value) => {\n",
              "    // Cache the last promise value to make it available to the next\n",
              "    // step of the generator.\n",
              "    outputElement.lastPromiseValue = value;\n",
              "    return next.value.response;\n",
              "  });\n",
              "}\n",
              "\n",
              "/**\n",
              " * Generator function which is called between each async step of the upload\n",
              " * process.\n",
              " * @param {string} inputId Element ID of the input file picker element.\n",
              " * @param {string} outputId Element ID of the output display.\n",
              " * @return {!Iterable<!Object>} Iterable of next steps.\n",
              " */\n",
              "function* uploadFilesStep(inputId, outputId) {\n",
              "  const inputElement = document.getElementById(inputId);\n",
              "  inputElement.disabled = false;\n",
              "\n",
              "  const outputElement = document.getElementById(outputId);\n",
              "  outputElement.innerHTML = '';\n",
              "\n",
              "  const pickedPromise = new Promise((resolve) => {\n",
              "    inputElement.addEventListener('change', (e) => {\n",
              "      resolve(e.target.files);\n",
              "    });\n",
              "  });\n",
              "\n",
              "  const cancel = document.createElement('button');\n",
              "  inputElement.parentElement.appendChild(cancel);\n",
              "  cancel.textContent = 'Cancel upload';\n",
              "  const cancelPromise = new Promise((resolve) => {\n",
              "    cancel.onclick = () => {\n",
              "      resolve(null);\n",
              "    };\n",
              "  });\n",
              "\n",
              "  // Wait for the user to pick the files.\n",
              "  const files = yield {\n",
              "    promise: Promise.race([pickedPromise, cancelPromise]),\n",
              "    response: {\n",
              "      action: 'starting',\n",
              "    }\n",
              "  };\n",
              "\n",
              "  cancel.remove();\n",
              "\n",
              "  // Disable the input element since further picks are not allowed.\n",
              "  inputElement.disabled = true;\n",
              "\n",
              "  if (!files) {\n",
              "    return {\n",
              "      response: {\n",
              "        action: 'complete',\n",
              "      }\n",
              "    };\n",
              "  }\n",
              "\n",
              "  for (const file of files) {\n",
              "    const li = document.createElement('li');\n",
              "    li.append(span(file.name, {fontWeight: 'bold'}));\n",
              "    li.append(span(\n",
              "        `(${file.type || 'n/a'}) - ${file.size} bytes, ` +\n",
              "        `last modified: ${\n",
              "            file.lastModifiedDate ? file.lastModifiedDate.toLocaleDateString() :\n",
              "                                    'n/a'} - `));\n",
              "    const percent = span('0% done');\n",
              "    li.appendChild(percent);\n",
              "\n",
              "    outputElement.appendChild(li);\n",
              "\n",
              "    const fileDataPromise = new Promise((resolve) => {\n",
              "      const reader = new FileReader();\n",
              "      reader.onload = (e) => {\n",
              "        resolve(e.target.result);\n",
              "      };\n",
              "      reader.readAsArrayBuffer(file);\n",
              "    });\n",
              "    // Wait for the data to be ready.\n",
              "    let fileData = yield {\n",
              "      promise: fileDataPromise,\n",
              "      response: {\n",
              "        action: 'continue',\n",
              "      }\n",
              "    };\n",
              "\n",
              "    // Use a chunked sending to avoid message size limits. See b/62115660.\n",
              "    let position = 0;\n",
              "    do {\n",
              "      const length = Math.min(fileData.byteLength - position, MAX_PAYLOAD_SIZE);\n",
              "      const chunk = new Uint8Array(fileData, position, length);\n",
              "      position += length;\n",
              "\n",
              "      const base64 = btoa(String.fromCharCode.apply(null, chunk));\n",
              "      yield {\n",
              "        response: {\n",
              "          action: 'append',\n",
              "          file: file.name,\n",
              "          data: base64,\n",
              "        },\n",
              "      };\n",
              "\n",
              "      let percentDone = fileData.byteLength === 0 ?\n",
              "          100 :\n",
              "          Math.round((position / fileData.byteLength) * 100);\n",
              "      percent.textContent = `${percentDone}% done`;\n",
              "\n",
              "    } while (position < fileData.byteLength);\n",
              "  }\n",
              "\n",
              "  // All done.\n",
              "  yield {\n",
              "    response: {\n",
              "      action: 'complete',\n",
              "    }\n",
              "  };\n",
              "}\n",
              "\n",
              "scope.google = scope.google || {};\n",
              "scope.google.colab = scope.google.colab || {};\n",
              "scope.google.colab._files = {\n",
              "  _uploadFiles,\n",
              "  _uploadFilesContinue,\n",
              "};\n",
              "})(self);\n",
              "</script> "
            ]
          },
          "metadata": {}
        },
        {
          "output_type": "stream",
          "name": "stdout",
          "text": [
            "Saving kaggle.json to kaggle.json\n"
          ]
        },
        {
          "output_type": "execute_result",
          "data": {
            "text/plain": [
              "{'kaggle.json': b'{\"username\":\"manojk1323\",\"key\":\"3c38415542b555dc4234b52347aae6f1\"}'}"
            ]
          },
          "metadata": {},
          "execution_count": 2
        }
      ]
    },
    {
      "cell_type": "code",
      "source": [
        "import os\n",
        "\n",
        "# Create the .kaggle directory\n",
        "os.makedirs('/root/.kaggle', exist_ok=True)\n",
        "\n",
        "# Move kaggle.json into the directory\n",
        "!mv kaggle.json /root/.kaggle/\n",
        "\n",
        "# Change permissions\n",
        "!chmod 600 /root/.kaggle/kaggle.json"
      ],
      "metadata": {
        "id": "PQqwRf0f5JWn"
      },
      "execution_count": 3,
      "outputs": []
    },
    {
      "cell_type": "code",
      "source": [
        "!kaggle datasets download -d manojk1323/sign-language-pre-processed-for-27-words"
      ],
      "metadata": {
        "colab": {
          "base_uri": "https://localhost:8080/"
        },
        "id": "UPnMoHmA5JUH",
        "outputId": "a9bee15d-be30-4267-a649-97cb491559f0"
      },
      "execution_count": 4,
      "outputs": [
        {
          "output_type": "stream",
          "name": "stdout",
          "text": [
            "Dataset URL: https://www.kaggle.com/datasets/manojk1323/sign-language-pre-processed-for-27-words\n",
            "License(s): unknown\n",
            "Downloading sign-language-pre-processed-for-27-words.zip to /content\n",
            " 99% 457M/462M [00:05<00:00, 129MB/s]\n",
            "100% 462M/462M [00:05<00:00, 85.3MB/s]\n"
          ]
        }
      ]
    },
    {
      "cell_type": "code",
      "source": [
        "# prompt: unzip the dataset file\n",
        "!unzip sign-language-pre-processed-for-27-words.zip"
      ],
      "metadata": {
        "colab": {
          "base_uri": "https://localhost:8080/"
        },
        "id": "ZB0u6TMT6cET",
        "outputId": "6e93be26-4d26-4f67-cb04-8a32705eb554"
      },
      "execution_count": 5,
      "outputs": [
        {
          "output_type": "stream",
          "name": "stdout",
          "text": [
            "Archive:  sign-language-pre-processed-for-27-words.zip\n",
            "  inflating: sign_27.csv             \n"
          ]
        }
      ]
    },
    {
      "cell_type": "code",
      "source": [
        "import os\n",
        "import numpy as np\n",
        "import pandas as pd\n",
        "import matplotlib.pyplot as plt\n",
        "from sklearn.model_selection import train_test_split\n",
        "from tensorflow.keras.utils import to_categorical\n",
        "from tensorflow.keras.preprocessing.sequence import pad_sequences"
      ],
      "metadata": {
        "trusted": true,
        "execution": {
          "iopub.status.busy": "2025-02-27T05:17:53.676675Z",
          "iopub.execute_input": "2025-02-27T05:17:53.677005Z",
          "iopub.status.idle": "2025-02-27T05:17:58.561101Z",
          "shell.execute_reply.started": "2025-02-27T05:17:53.676979Z",
          "shell.execute_reply": "2025-02-27T05:17:58.560085Z"
        },
        "id": "NPZ1jnR72fQL"
      },
      "outputs": [],
      "execution_count": 6
    },
    {
      "cell_type": "code",
      "source": [
        "# Load preprocessed DataFrame\n",
        "df = pd.read_csv(r'/content/sign_27.csv')"
      ],
      "metadata": {
        "trusted": true,
        "execution": {
          "iopub.status.busy": "2025-02-27T05:17:58.562313Z",
          "iopub.execute_input": "2025-02-27T05:17:58.562879Z",
          "iopub.status.idle": "2025-02-27T05:18:14.653791Z",
          "shell.execute_reply.started": "2025-02-27T05:17:58.562843Z",
          "shell.execute_reply": "2025-02-27T05:18:14.651942Z"
        },
        "id": "VsZliNu02fQL"
      },
      "outputs": [],
      "execution_count": 7
    },
    {
      "cell_type": "code",
      "source": [
        "df.info()"
      ],
      "metadata": {
        "trusted": true,
        "execution": {
          "iopub.status.busy": "2025-02-27T05:18:14.65643Z",
          "iopub.execute_input": "2025-02-27T05:18:14.656883Z",
          "iopub.status.idle": "2025-02-27T05:18:14.929847Z",
          "shell.execute_reply.started": "2025-02-27T05:18:14.656835Z",
          "shell.execute_reply": "2025-02-27T05:18:14.928694Z"
        },
        "id": "GCpkss7a2fQM",
        "colab": {
          "base_uri": "https://localhost:8080/"
        },
        "outputId": "36755c76-99a0-4b59-cd84-fb42079847c5"
      },
      "outputs": [
        {
          "output_type": "stream",
          "name": "stdout",
          "text": [
            "<class 'pandas.core.frame.DataFrame'>\n",
            "RangeIndex: 32865 entries, 0 to 32864\n",
            "Columns: 1665 entries, action to kp_1661\n",
            "dtypes: float64(1662), int64(1), object(2)\n",
            "memory usage: 417.5+ MB\n"
          ]
        }
      ],
      "execution_count": 8
    },
    {
      "cell_type": "code",
      "source": [
        "df.head(2)"
      ],
      "metadata": {
        "trusted": true,
        "execution": {
          "iopub.status.busy": "2025-02-27T05:18:14.931496Z",
          "iopub.execute_input": "2025-02-27T05:18:14.931892Z",
          "iopub.status.idle": "2025-02-27T05:18:14.957705Z",
          "shell.execute_reply.started": "2025-02-27T05:18:14.931853Z",
          "shell.execute_reply": "2025-02-27T05:18:14.956464Z"
        },
        "id": "OJNECLmC2fQN",
        "colab": {
          "base_uri": "https://localhost:8080/",
          "height": 196
        },
        "outputId": "a802f3e9-a2b2-43d9-8db8-083a3df6a4cc"
      },
      "outputs": [
        {
          "output_type": "execute_result",
          "data": {
            "text/plain": [
              "       action          video  frame      kp_0      kp_1      kp_2      kp_3  \\\n",
              "0  good night  MVI_005_6.MOV      0  0.489297  0.146612 -0.502261  0.999895   \n",
              "1  good night  MVI_005_6.MOV      1  0.488763  0.148646 -0.501405  0.999897   \n",
              "\n",
              "       kp_4      kp_5      kp_6  ...   kp_1652   kp_1653   kp_1654   kp_1655  \\\n",
              "0  0.499013  0.123582 -0.481440  ... -0.001275  0.409427  0.832730 -0.003213   \n",
              "1  0.498282  0.124194 -0.481308  ... -0.001907  0.409393  0.834686 -0.004285   \n",
              "\n",
              "    kp_1656   kp_1657   kp_1658   kp_1659   kp_1660   kp_1661  \n",
              "0  0.417676  0.843267 -0.002958  0.424856  0.848169 -0.002093  \n",
              "1  0.417800  0.844495 -0.004322  0.424833  0.848541 -0.003665  \n",
              "\n",
              "[2 rows x 1665 columns]"
            ],
            "text/html": [
              "\n",
              "  <div id=\"df-30bd6c56-773e-4233-9ad3-2c887fb1ec5b\" class=\"colab-df-container\">\n",
              "    <div>\n",
              "<style scoped>\n",
              "    .dataframe tbody tr th:only-of-type {\n",
              "        vertical-align: middle;\n",
              "    }\n",
              "\n",
              "    .dataframe tbody tr th {\n",
              "        vertical-align: top;\n",
              "    }\n",
              "\n",
              "    .dataframe thead th {\n",
              "        text-align: right;\n",
              "    }\n",
              "</style>\n",
              "<table border=\"1\" class=\"dataframe\">\n",
              "  <thead>\n",
              "    <tr style=\"text-align: right;\">\n",
              "      <th></th>\n",
              "      <th>action</th>\n",
              "      <th>video</th>\n",
              "      <th>frame</th>\n",
              "      <th>kp_0</th>\n",
              "      <th>kp_1</th>\n",
              "      <th>kp_2</th>\n",
              "      <th>kp_3</th>\n",
              "      <th>kp_4</th>\n",
              "      <th>kp_5</th>\n",
              "      <th>kp_6</th>\n",
              "      <th>...</th>\n",
              "      <th>kp_1652</th>\n",
              "      <th>kp_1653</th>\n",
              "      <th>kp_1654</th>\n",
              "      <th>kp_1655</th>\n",
              "      <th>kp_1656</th>\n",
              "      <th>kp_1657</th>\n",
              "      <th>kp_1658</th>\n",
              "      <th>kp_1659</th>\n",
              "      <th>kp_1660</th>\n",
              "      <th>kp_1661</th>\n",
              "    </tr>\n",
              "  </thead>\n",
              "  <tbody>\n",
              "    <tr>\n",
              "      <th>0</th>\n",
              "      <td>good night</td>\n",
              "      <td>MVI_005_6.MOV</td>\n",
              "      <td>0</td>\n",
              "      <td>0.489297</td>\n",
              "      <td>0.146612</td>\n",
              "      <td>-0.502261</td>\n",
              "      <td>0.999895</td>\n",
              "      <td>0.499013</td>\n",
              "      <td>0.123582</td>\n",
              "      <td>-0.481440</td>\n",
              "      <td>...</td>\n",
              "      <td>-0.001275</td>\n",
              "      <td>0.409427</td>\n",
              "      <td>0.832730</td>\n",
              "      <td>-0.003213</td>\n",
              "      <td>0.417676</td>\n",
              "      <td>0.843267</td>\n",
              "      <td>-0.002958</td>\n",
              "      <td>0.424856</td>\n",
              "      <td>0.848169</td>\n",
              "      <td>-0.002093</td>\n",
              "    </tr>\n",
              "    <tr>\n",
              "      <th>1</th>\n",
              "      <td>good night</td>\n",
              "      <td>MVI_005_6.MOV</td>\n",
              "      <td>1</td>\n",
              "      <td>0.488763</td>\n",
              "      <td>0.148646</td>\n",
              "      <td>-0.501405</td>\n",
              "      <td>0.999897</td>\n",
              "      <td>0.498282</td>\n",
              "      <td>0.124194</td>\n",
              "      <td>-0.481308</td>\n",
              "      <td>...</td>\n",
              "      <td>-0.001907</td>\n",
              "      <td>0.409393</td>\n",
              "      <td>0.834686</td>\n",
              "      <td>-0.004285</td>\n",
              "      <td>0.417800</td>\n",
              "      <td>0.844495</td>\n",
              "      <td>-0.004322</td>\n",
              "      <td>0.424833</td>\n",
              "      <td>0.848541</td>\n",
              "      <td>-0.003665</td>\n",
              "    </tr>\n",
              "  </tbody>\n",
              "</table>\n",
              "<p>2 rows × 1665 columns</p>\n",
              "</div>\n",
              "    <div class=\"colab-df-buttons\">\n",
              "\n",
              "  <div class=\"colab-df-container\">\n",
              "    <button class=\"colab-df-convert\" onclick=\"convertToInteractive('df-30bd6c56-773e-4233-9ad3-2c887fb1ec5b')\"\n",
              "            title=\"Convert this dataframe to an interactive table.\"\n",
              "            style=\"display:none;\">\n",
              "\n",
              "  <svg xmlns=\"http://www.w3.org/2000/svg\" height=\"24px\" viewBox=\"0 -960 960 960\">\n",
              "    <path d=\"M120-120v-720h720v720H120Zm60-500h600v-160H180v160Zm220 220h160v-160H400v160Zm0 220h160v-160H400v160ZM180-400h160v-160H180v160Zm440 0h160v-160H620v160ZM180-180h160v-160H180v160Zm440 0h160v-160H620v160Z\"/>\n",
              "  </svg>\n",
              "    </button>\n",
              "\n",
              "  <style>\n",
              "    .colab-df-container {\n",
              "      display:flex;\n",
              "      gap: 12px;\n",
              "    }\n",
              "\n",
              "    .colab-df-convert {\n",
              "      background-color: #E8F0FE;\n",
              "      border: none;\n",
              "      border-radius: 50%;\n",
              "      cursor: pointer;\n",
              "      display: none;\n",
              "      fill: #1967D2;\n",
              "      height: 32px;\n",
              "      padding: 0 0 0 0;\n",
              "      width: 32px;\n",
              "    }\n",
              "\n",
              "    .colab-df-convert:hover {\n",
              "      background-color: #E2EBFA;\n",
              "      box-shadow: 0px 1px 2px rgba(60, 64, 67, 0.3), 0px 1px 3px 1px rgba(60, 64, 67, 0.15);\n",
              "      fill: #174EA6;\n",
              "    }\n",
              "\n",
              "    .colab-df-buttons div {\n",
              "      margin-bottom: 4px;\n",
              "    }\n",
              "\n",
              "    [theme=dark] .colab-df-convert {\n",
              "      background-color: #3B4455;\n",
              "      fill: #D2E3FC;\n",
              "    }\n",
              "\n",
              "    [theme=dark] .colab-df-convert:hover {\n",
              "      background-color: #434B5C;\n",
              "      box-shadow: 0px 1px 3px 1px rgba(0, 0, 0, 0.15);\n",
              "      filter: drop-shadow(0px 1px 2px rgba(0, 0, 0, 0.3));\n",
              "      fill: #FFFFFF;\n",
              "    }\n",
              "  </style>\n",
              "\n",
              "    <script>\n",
              "      const buttonEl =\n",
              "        document.querySelector('#df-30bd6c56-773e-4233-9ad3-2c887fb1ec5b button.colab-df-convert');\n",
              "      buttonEl.style.display =\n",
              "        google.colab.kernel.accessAllowed ? 'block' : 'none';\n",
              "\n",
              "      async function convertToInteractive(key) {\n",
              "        const element = document.querySelector('#df-30bd6c56-773e-4233-9ad3-2c887fb1ec5b');\n",
              "        const dataTable =\n",
              "          await google.colab.kernel.invokeFunction('convertToInteractive',\n",
              "                                                    [key], {});\n",
              "        if (!dataTable) return;\n",
              "\n",
              "        const docLinkHtml = 'Like what you see? Visit the ' +\n",
              "          '<a target=\"_blank\" href=https://colab.research.google.com/notebooks/data_table.ipynb>data table notebook</a>'\n",
              "          + ' to learn more about interactive tables.';\n",
              "        element.innerHTML = '';\n",
              "        dataTable['output_type'] = 'display_data';\n",
              "        await google.colab.output.renderOutput(dataTable, element);\n",
              "        const docLink = document.createElement('div');\n",
              "        docLink.innerHTML = docLinkHtml;\n",
              "        element.appendChild(docLink);\n",
              "      }\n",
              "    </script>\n",
              "  </div>\n",
              "\n",
              "\n",
              "<div id=\"df-e45aaf4f-be8f-4927-b3c6-dd689aa0ecb0\">\n",
              "  <button class=\"colab-df-quickchart\" onclick=\"quickchart('df-e45aaf4f-be8f-4927-b3c6-dd689aa0ecb0')\"\n",
              "            title=\"Suggest charts\"\n",
              "            style=\"display:none;\">\n",
              "\n",
              "<svg xmlns=\"http://www.w3.org/2000/svg\" height=\"24px\"viewBox=\"0 0 24 24\"\n",
              "     width=\"24px\">\n",
              "    <g>\n",
              "        <path d=\"M19 3H5c-1.1 0-2 .9-2 2v14c0 1.1.9 2 2 2h14c1.1 0 2-.9 2-2V5c0-1.1-.9-2-2-2zM9 17H7v-7h2v7zm4 0h-2V7h2v10zm4 0h-2v-4h2v4z\"/>\n",
              "    </g>\n",
              "</svg>\n",
              "  </button>\n",
              "\n",
              "<style>\n",
              "  .colab-df-quickchart {\n",
              "      --bg-color: #E8F0FE;\n",
              "      --fill-color: #1967D2;\n",
              "      --hover-bg-color: #E2EBFA;\n",
              "      --hover-fill-color: #174EA6;\n",
              "      --disabled-fill-color: #AAA;\n",
              "      --disabled-bg-color: #DDD;\n",
              "  }\n",
              "\n",
              "  [theme=dark] .colab-df-quickchart {\n",
              "      --bg-color: #3B4455;\n",
              "      --fill-color: #D2E3FC;\n",
              "      --hover-bg-color: #434B5C;\n",
              "      --hover-fill-color: #FFFFFF;\n",
              "      --disabled-bg-color: #3B4455;\n",
              "      --disabled-fill-color: #666;\n",
              "  }\n",
              "\n",
              "  .colab-df-quickchart {\n",
              "    background-color: var(--bg-color);\n",
              "    border: none;\n",
              "    border-radius: 50%;\n",
              "    cursor: pointer;\n",
              "    display: none;\n",
              "    fill: var(--fill-color);\n",
              "    height: 32px;\n",
              "    padding: 0;\n",
              "    width: 32px;\n",
              "  }\n",
              "\n",
              "  .colab-df-quickchart:hover {\n",
              "    background-color: var(--hover-bg-color);\n",
              "    box-shadow: 0 1px 2px rgba(60, 64, 67, 0.3), 0 1px 3px 1px rgba(60, 64, 67, 0.15);\n",
              "    fill: var(--button-hover-fill-color);\n",
              "  }\n",
              "\n",
              "  .colab-df-quickchart-complete:disabled,\n",
              "  .colab-df-quickchart-complete:disabled:hover {\n",
              "    background-color: var(--disabled-bg-color);\n",
              "    fill: var(--disabled-fill-color);\n",
              "    box-shadow: none;\n",
              "  }\n",
              "\n",
              "  .colab-df-spinner {\n",
              "    border: 2px solid var(--fill-color);\n",
              "    border-color: transparent;\n",
              "    border-bottom-color: var(--fill-color);\n",
              "    animation:\n",
              "      spin 1s steps(1) infinite;\n",
              "  }\n",
              "\n",
              "  @keyframes spin {\n",
              "    0% {\n",
              "      border-color: transparent;\n",
              "      border-bottom-color: var(--fill-color);\n",
              "      border-left-color: var(--fill-color);\n",
              "    }\n",
              "    20% {\n",
              "      border-color: transparent;\n",
              "      border-left-color: var(--fill-color);\n",
              "      border-top-color: var(--fill-color);\n",
              "    }\n",
              "    30% {\n",
              "      border-color: transparent;\n",
              "      border-left-color: var(--fill-color);\n",
              "      border-top-color: var(--fill-color);\n",
              "      border-right-color: var(--fill-color);\n",
              "    }\n",
              "    40% {\n",
              "      border-color: transparent;\n",
              "      border-right-color: var(--fill-color);\n",
              "      border-top-color: var(--fill-color);\n",
              "    }\n",
              "    60% {\n",
              "      border-color: transparent;\n",
              "      border-right-color: var(--fill-color);\n",
              "    }\n",
              "    80% {\n",
              "      border-color: transparent;\n",
              "      border-right-color: var(--fill-color);\n",
              "      border-bottom-color: var(--fill-color);\n",
              "    }\n",
              "    90% {\n",
              "      border-color: transparent;\n",
              "      border-bottom-color: var(--fill-color);\n",
              "    }\n",
              "  }\n",
              "</style>\n",
              "\n",
              "  <script>\n",
              "    async function quickchart(key) {\n",
              "      const quickchartButtonEl =\n",
              "        document.querySelector('#' + key + ' button');\n",
              "      quickchartButtonEl.disabled = true;  // To prevent multiple clicks.\n",
              "      quickchartButtonEl.classList.add('colab-df-spinner');\n",
              "      try {\n",
              "        const charts = await google.colab.kernel.invokeFunction(\n",
              "            'suggestCharts', [key], {});\n",
              "      } catch (error) {\n",
              "        console.error('Error during call to suggestCharts:', error);\n",
              "      }\n",
              "      quickchartButtonEl.classList.remove('colab-df-spinner');\n",
              "      quickchartButtonEl.classList.add('colab-df-quickchart-complete');\n",
              "    }\n",
              "    (() => {\n",
              "      let quickchartButtonEl =\n",
              "        document.querySelector('#df-e45aaf4f-be8f-4927-b3c6-dd689aa0ecb0 button');\n",
              "      quickchartButtonEl.style.display =\n",
              "        google.colab.kernel.accessAllowed ? 'block' : 'none';\n",
              "    })();\n",
              "  </script>\n",
              "</div>\n",
              "\n",
              "    </div>\n",
              "  </div>\n"
            ],
            "application/vnd.google.colaboratory.intrinsic+json": {
              "type": "dataframe",
              "variable_name": "df"
            }
          },
          "metadata": {},
          "execution_count": 9
        }
      ],
      "execution_count": 9
    },
    {
      "cell_type": "markdown",
      "source": [
        "## baisc pre-processing:-"
      ],
      "metadata": {
        "id": "EjWxS6kH2fQO"
      }
    },
    {
      "cell_type": "code",
      "source": [
        "import matplotlib.pyplot as plt\n",
        "import seaborn as sns\n",
        "\n",
        "def plot_frame_distribution(frame_counts):\n",
        "    \"\"\"\n",
        "    Plots histogram, boxplot, and CDF to analyze the distribution of frames per video.\n",
        "\n",
        "    Args:\n",
        "        frame_counts (pd.Series): Series containing the frame count for each video.\n",
        "    \"\"\"\n",
        "    plt.figure(figsize=(15, 5))\n",
        "\n",
        "    # Histogram\n",
        "    plt.subplot(1, 3, 1)\n",
        "    sns.histplot(frame_counts, bins=30, kde=True, color=\"blue\")\n",
        "    plt.axvline(frame_counts.median(), color='red', linestyle='dashed', label=f\"Median: {frame_counts.median()}\")\n",
        "    plt.axvline(frame_counts.mean(), color='green', linestyle='dashed', label=f\"Mean: {frame_counts.mean():.2f}\")\n",
        "    plt.legend()\n",
        "    plt.xlabel(\"Number of Frames per Video\")\n",
        "    plt.ylabel(\"Frequency\")\n",
        "    plt.title(\"Histogram of Frame Counts\")\n",
        "\n",
        "    # Boxplot\n",
        "    plt.subplot(1, 3, 2)\n",
        "    sns.boxplot(x=frame_counts, color=\"orange\")\n",
        "    plt.xlabel(\"Number of Frames per Video\")\n",
        "    plt.title(\"Boxplot of Frame Counts\")\n",
        "\n",
        "    # CDF Plot\n",
        "    plt.subplot(1, 3, 3)\n",
        "    sns.ecdfplot(frame_counts, color=\"purple\")\n",
        "    plt.axhline(0.9, color='red', linestyle='dashed', label=\"90% Coverage\")\n",
        "    plt.legend()\n",
        "    plt.xlabel(\"Number of Frames per Video\")\n",
        "    plt.ylabel(\"Cumulative Probability\")\n",
        "    plt.title(\"CDF of Frame Counts\")\n",
        "\n",
        "    plt.tight_layout()\n",
        "    plt.show()"
      ],
      "metadata": {
        "trusted": true,
        "execution": {
          "iopub.status.busy": "2025-02-27T05:18:14.981856Z",
          "iopub.execute_input": "2025-02-27T05:18:14.982266Z",
          "iopub.status.idle": "2025-02-27T05:18:15.124399Z",
          "shell.execute_reply.started": "2025-02-27T05:18:14.9822Z",
          "shell.execute_reply": "2025-02-27T05:18:15.123258Z"
        },
        "id": "eKPu8krK2fQP"
      },
      "outputs": [],
      "execution_count": 10
    },
    {
      "cell_type": "code",
      "source": [
        "plot_frame_distribution(df[\"frame\"])"
      ],
      "metadata": {
        "trusted": true,
        "execution": {
          "iopub.status.busy": "2025-02-27T05:18:15.125496Z",
          "iopub.execute_input": "2025-02-27T05:18:15.126132Z",
          "iopub.status.idle": "2025-02-27T05:18:16.020118Z",
          "shell.execute_reply.started": "2025-02-27T05:18:15.126099Z",
          "shell.execute_reply": "2025-02-27T05:18:16.019083Z"
        },
        "id": "Q5WeqOEf2fQP",
        "colab": {
          "base_uri": "https://localhost:8080/",
          "height": 237
        },
        "outputId": "70077be4-36db-4885-94b0-1e2be2baf52e"
      },
      "outputs": [
        {
          "output_type": "display_data",
          "data": {
            "text/plain": [
              "<Figure size 1500x500 with 3 Axes>"
            ],
            "image/png": "[encoded data removed]"
          },
          "metadata": {}
        }
      ],
      "execution_count": 11
    },
    {
      "cell_type": "code",
      "source": [
        "df['frame'].unique()"
      ],
      "metadata": {
        "trusted": true,
        "execution": {
          "iopub.status.busy": "2025-02-27T05:18:16.023549Z",
          "iopub.execute_input": "2025-02-27T05:18:16.023876Z",
          "iopub.status.idle": "2025-02-27T05:18:16.031843Z",
          "shell.execute_reply.started": "2025-02-27T05:18:16.023847Z",
          "shell.execute_reply": "2025-02-27T05:18:16.030805Z"
        },
        "id": "DGoyzRcM2fQQ",
        "colab": {
          "base_uri": "https://localhost:8080/"
        },
        "outputId": "22d6d525-d689-4bd2-cfc0-daac7f939802"
      },
      "outputs": [
        {
          "output_type": "execute_result",
          "data": {
            "text/plain": [
              "array([  0,   1,   2,   3,   4,   5,   6,   7,   8,   9,  10,  11,  12,\n",
              "        13,  14,  15,  16,  17,  18,  19,  20,  21,  22,  23,  24,  25,\n",
              "        26,  27,  28,  29,  30,  31,  32,  33,  34,  35,  36,  37,  38,\n",
              "        39,  40,  41,  42,  43,  44,  45,  46,  47,  48,  49,  50,  51,\n",
              "        52,  53,  54,  55,  56,  57,  58,  59,  60,  61,  62,  63,  64,\n",
              "        65,  66,  67,  68,  69,  70,  71,  72,  73,  74,  75,  76,  77,\n",
              "        78,  79,  80,  81,  82,  83,  84,  85,  86,  87,  88,  89,  90,\n",
              "        91,  92,  93,  94,  95,  96,  97,  98,  99, 100, 101, 102, 103,\n",
              "       104, 105, 106, 107, 108, 109, 110, 111, 112, 113, 114, 115, 116,\n",
              "       117, 118, 119, 120, 121, 122])"
            ]
          },
          "metadata": {},
          "execution_count": 12
        }
      ],
      "execution_count": 12
    },
    {
      "cell_type": "code",
      "source": [
        "frame_count = df.groupby('video')['frame'].count()\n",
        "print(frame_count)\n",
        "print(f'max value:- ', frame_count.max())\n",
        "print(f'min value:- ', frame_count.min())\n",
        "print(frame_count.unique())"
      ],
      "metadata": {
        "trusted": true,
        "execution": {
          "iopub.status.busy": "2025-02-27T05:18:16.033425Z",
          "iopub.execute_input": "2025-02-27T05:18:16.033706Z",
          "iopub.status.idle": "2025-02-27T05:18:16.056763Z",
          "shell.execute_reply.started": "2025-02-27T05:18:16.033682Z",
          "shell.execute_reply": "2025-02-27T05:18:16.055711Z"
        },
        "id": "f5X11t-b2fQR",
        "colab": {
          "base_uri": "https://localhost:8080/"
        },
        "outputId": "7c779657-dfbb-49fd-c64e-5f1dcdcea41e"
      },
      "outputs": [
        {
          "output_type": "stream",
          "name": "stdout",
          "text": [
            "video\n",
            "MVI_0001.MOV    55\n",
            "MVI_0002.MOV    56\n",
            "MVI_0003.MOV    60\n",
            "MVI_0004.MOV    60\n",
            "MVI_0006.MOV    53\n",
            "                ..\n",
            "MVI_9994.MOV    55\n",
            "MVI_9995.MOV    63\n",
            "MVI_9996.MOV    60\n",
            "MVI_9998.MOV    54\n",
            "MVI_9999.MOV    56\n",
            "Name: frame, Length: 454, dtype: int64\n",
            "max value:-  153\n",
            "min value:-  36\n",
            "[ 55  56  60  53  57  54  63  74  65  61  81  92  96  95 122 140 131  71\n",
            " 151 139 143 153 146 128  87  90  64 141  62  91 149  84  89  82 137 130\n",
            " 142  79  76  68  69  80  83 100  66  73  75  72  77 117  67  94 112  85\n",
            "  99  97 103  88  86  98 104  78 109 123  93  70  59 116  44  40  48  51\n",
            " 111 115 105 101  50  52  45  58  49  46  47  42  41  36  43 135 120 108\n",
            " 134 138 124 125]\n"
          ]
        }
      ],
      "execution_count": 13
    },
    {
      "cell_type": "code",
      "source": [
        "def trim_and_pad_frames(df, target_frames):\n",
        "    new_data = []\n",
        "    c = 0\n",
        "\n",
        "    for video_name, video_df in df.groupby(\"video\"):\n",
        "        num_frames = len(video_df)\n",
        "\n",
        "        # If frames exceed target, trim the last extra frames\n",
        "        if num_frames > target_frames:\n",
        "            video_df = video_df.iloc[:target_frames]  # Keep only the first `target_frames` frames\n",
        "\n",
        "        # If frames are less than target, pad with zero rows\n",
        "        elif num_frames < target_frames:\n",
        "            keypoint_columns = video_df.drop(columns=[\"action\", \"video\", \"frame\"]).columns\n",
        "            padding_needed = target_frames - num_frames\n",
        "\n",
        "            # Create zero-padded rows\n",
        "            zero_padding = pd.DataFrame(np.full((padding_needed, len(keypoint_columns)), -99999), columns=keypoint_columns)\n",
        "            zero_padding.insert(0, \"video\", video_name)\n",
        "            zero_padding.insert(1, \"frame\", np.arange(num_frames + 1, target_frames + 1))  # New frame numbers\n",
        "            zero_padding[\"action\"] = video_df[\"action\"].iloc[0]  # Maintain same action label\n",
        "\n",
        "            video_df = pd.concat([video_df, zero_padding], ignore_index=True)\n",
        "\n",
        "        # Ensure exactly `target_frames` per video\n",
        "        assert len(video_df) == target_frames, f\"Video {video_name} has {len(video_df)} frames, expected {target_frames}\"\n",
        "\n",
        "        new_data.append(video_df)\n",
        "\n",
        "    print(f\"Skipped count: -\", c)\n",
        "    return pd.concat(new_data, ignore_index=True)"
      ],
      "metadata": {
        "trusted": true,
        "execution": {
          "iopub.status.busy": "2025-02-27T05:18:16.057787Z",
          "iopub.execute_input": "2025-02-27T05:18:16.05816Z",
          "iopub.status.idle": "2025-02-27T05:18:16.06862Z",
          "shell.execute_reply.started": "2025-02-27T05:18:16.058131Z",
          "shell.execute_reply": "2025-02-27T05:18:16.067422Z"
        },
        "id": "Eg589wWc2fQR"
      },
      "outputs": [],
      "execution_count": 14
    },
    {
      "cell_type": "code",
      "source": [
        "df_trimmed = trim_and_pad_frames(df, target_frames=120)\n",
        "df_trimmed.info()"
      ],
      "metadata": {
        "trusted": true,
        "execution": {
          "iopub.status.busy": "2025-02-27T05:18:16.069801Z",
          "iopub.execute_input": "2025-02-27T05:18:16.070202Z",
          "iopub.status.idle": "2025-02-27T05:18:19.271558Z",
          "shell.execute_reply.started": "2025-02-27T05:18:16.070168Z",
          "shell.execute_reply": "2025-02-27T05:18:19.270354Z"
        },
        "id": "ajCHACZb2fQS",
        "colab": {
          "base_uri": "https://localhost:8080/"
        },
        "outputId": "bc81e9b9-4357-4280-c4ae-7990654a0b26"
      },
      "outputs": [
        {
          "output_type": "stream",
          "name": "stdout",
          "text": [
            "Skipped count: - 0\n",
            "<class 'pandas.core.frame.DataFrame'>\n",
            "RangeIndex: 54480 entries, 0 to 54479\n",
            "Columns: 1665 entries, action to kp_1661\n",
            "dtypes: float64(1662), int64(1), object(2)\n",
            "memory usage: 692.1+ MB\n"
          ]
        }
      ],
      "execution_count": 15
    },
    {
      "cell_type": "code",
      "source": [
        "df.info()"
      ],
      "metadata": {
        "trusted": true,
        "execution": {
          "iopub.status.busy": "2025-02-27T05:18:19.272635Z",
          "iopub.execute_input": "2025-02-27T05:18:19.27293Z",
          "iopub.status.idle": "2025-02-27T05:18:19.294693Z",
          "shell.execute_reply.started": "2025-02-27T05:18:19.272905Z",
          "shell.execute_reply": "2025-02-27T05:18:19.293524Z"
        },
        "id": "-qnOxlf32fQT",
        "colab": {
          "base_uri": "https://localhost:8080/"
        },
        "outputId": "2ae99ef4-755d-4cfa-d51a-23c259d0ebce"
      },
      "outputs": [
        {
          "output_type": "stream",
          "name": "stdout",
          "text": [
            "<class 'pandas.core.frame.DataFrame'>\n",
            "RangeIndex: 32865 entries, 0 to 32864\n",
            "Columns: 1665 entries, action to kp_1661\n",
            "dtypes: float64(1662), int64(1), object(2)\n",
            "memory usage: 417.5+ MB\n"
          ]
        }
      ],
      "execution_count": 16
    },
    {
      "cell_type": "code",
      "source": [
        "df_trimmed.groupby(\"video\")[\"frame\"].count().unique()"
      ],
      "metadata": {
        "trusted": true,
        "execution": {
          "iopub.status.busy": "2025-02-27T05:18:19.295924Z",
          "iopub.execute_input": "2025-02-27T05:18:19.296339Z",
          "iopub.status.idle": "2025-02-27T05:18:19.318345Z",
          "shell.execute_reply.started": "2025-02-27T05:18:19.296291Z",
          "shell.execute_reply": "2025-02-27T05:18:19.317108Z"
        },
        "id": "b_Xw76nC2fQT",
        "colab": {
          "base_uri": "https://localhost:8080/"
        },
        "outputId": "a4883181-73fb-4dc9-9f8f-16f749a16db2"
      },
      "outputs": [
        {
          "output_type": "execute_result",
          "data": {
            "text/plain": [
              "array([120])"
            ]
          },
          "metadata": {},
          "execution_count": 17
        }
      ],
      "execution_count": 17
    },
    {
      "cell_type": "markdown",
      "source": [
        "## Build and Train LSTM Neural Network:-"
      ],
      "metadata": {
        "id": "NExC18eH2fQT"
      }
    },
    {
      "cell_type": "code",
      "source": [
        "sequences, labels = [], []\n",
        "\n",
        "# Ensure label_map is correctly defined\n",
        "unique_actions = df_trimmed['action'].unique()\n",
        "label_map = {action: i for i, action in enumerate(unique_actions)}\n",
        "\n",
        "# Grouping videos\n",
        "grouped = df_trimmed.groupby(\"video\")\n",
        "\n",
        "for video, group in grouped:\n",
        "    group = group.sort_values('frame')  # Sort frames correctly\n",
        "    keypoints_seq = group.iloc[:, 3:].values  # Extract only keypoints\n",
        "\n",
        "    # Extract action from the group\n",
        "    action = group['action'].iloc[0]  # Take first row (since all rows have the same action)\n",
        "\n",
        "    sequences.append(keypoints_seq)\n",
        "    labels.append(label_map[action])  # Convert action to label"
      ],
      "metadata": {
        "trusted": true,
        "execution": {
          "iopub.status.busy": "2025-02-27T05:18:19.335421Z",
          "iopub.execute_input": "2025-02-27T05:18:19.335734Z",
          "iopub.status.idle": "2025-02-27T05:18:20.481508Z",
          "shell.execute_reply.started": "2025-02-27T05:18:19.335699Z",
          "shell.execute_reply": "2025-02-27T05:18:20.480363Z"
        },
        "id": "wcmaTY-o2fQU"
      },
      "outputs": [],
      "execution_count": 18
    },
    {
      "cell_type": "code",
      "source": [
        "reverse_label_map = {i: action for action, i in label_map.items()}\n",
        "reverse_label_map"
      ],
      "metadata": {
        "trusted": true,
        "execution": {
          "iopub.status.busy": "2025-02-27T05:18:20.482572Z",
          "iopub.execute_input": "2025-02-27T05:18:20.482858Z",
          "iopub.status.idle": "2025-02-27T05:18:20.48973Z",
          "shell.execute_reply.started": "2025-02-27T05:18:20.482832Z",
          "shell.execute_reply": "2025-02-27T05:18:20.488483Z"
        },
        "id": "5-rv-4Ot2fQU",
        "colab": {
          "base_uri": "https://localhost:8080/"
        },
        "outputId": "c0082d2d-c083-4e0c-f33c-6105cde59952"
      },
      "outputs": [
        {
          "output_type": "execute_result",
          "data": {
            "text/plain": [
              "{0: 'good evening',\n",
              " 1: 'good night',\n",
              " 2: 'thank you',\n",
              " 3: 'pleased',\n",
              " 4: 'hello',\n",
              " 5: 'how are you',\n",
              " 6: 'alright',\n",
              " 7: 'good morning',\n",
              " 8: 'good afternoon',\n",
              " 9: 'dog',\n",
              " 10: 'cat',\n",
              " 11: 'fish',\n",
              " 12: 'bird',\n",
              " 13: 'cow',\n",
              " 14: 'extra',\n",
              " 15: 'hat',\n",
              " 16: 'dress',\n",
              " 17: 'suit',\n",
              " 18: 'skirt',\n",
              " 19: 'shirt',\n",
              " 20: 'loud',\n",
              " 21: 'quiet',\n",
              " 22: 'happy',\n",
              " 23: 'sad',\n",
              " 24: 'beautiful',\n",
              " 25: 'ugly',\n",
              " 26: 'deaf',\n",
              " 27: 'blind'}"
            ]
          },
          "metadata": {},
          "execution_count": 19
        }
      ],
      "execution_count": 19
    },
    {
      "cell_type": "code",
      "source": [
        "label_map"
      ],
      "metadata": {
        "trusted": true,
        "execution": {
          "iopub.status.busy": "2025-02-27T05:18:20.490689Z",
          "iopub.execute_input": "2025-02-27T05:18:20.491043Z",
          "iopub.status.idle": "2025-02-27T05:18:20.510505Z",
          "shell.execute_reply.started": "2025-02-27T05:18:20.491015Z",
          "shell.execute_reply": "2025-02-27T05:18:20.509526Z"
        },
        "id": "yHRrNs0O2fQU",
        "colab": {
          "base_uri": "https://localhost:8080/"
        },
        "outputId": "e6f898b7-fada-4685-cbd5-7486b1ec335b"
      },
      "outputs": [
        {
          "output_type": "execute_result",
          "data": {
            "text/plain": [
              "{'good evening': 0,\n",
              " 'good night': 1,\n",
              " 'thank you': 2,\n",
              " 'pleased': 3,\n",
              " 'hello': 4,\n",
              " 'how are you': 5,\n",
              " 'alright': 6,\n",
              " 'good morning': 7,\n",
              " 'good afternoon': 8,\n",
              " 'dog': 9,\n",
              " 'cat': 10,\n",
              " 'fish': 11,\n",
              " 'bird': 12,\n",
              " 'cow': 13,\n",
              " 'extra': 14,\n",
              " 'hat': 15,\n",
              " 'dress': 16,\n",
              " 'suit': 17,\n",
              " 'skirt': 18,\n",
              " 'shirt': 19,\n",
              " 'loud': 20,\n",
              " 'quiet': 21,\n",
              " 'happy': 22,\n",
              " 'sad': 23,\n",
              " 'beautiful': 24,\n",
              " 'ugly': 25,\n",
              " 'deaf': 26,\n",
              " 'blind': 27}"
            ]
          },
          "metadata": {},
          "execution_count": 20
        }
      ],
      "execution_count": 20
    },
    {
      "cell_type": "code",
      "source": [
        "# Convert to numpy arrays\n",
        "X = np.array(sequences)\n",
        "labels = np.array(labels)\n",
        "\n",
        "# Convert labels to one-hot encoding\n",
        "y = to_categorical(labels).astype(int)"
      ],
      "metadata": {
        "trusted": true,
        "execution": {
          "iopub.status.busy": "2025-02-27T05:18:20.511527Z",
          "iopub.execute_input": "2025-02-27T05:18:20.511788Z",
          "iopub.status.idle": "2025-02-27T05:18:20.876279Z",
          "shell.execute_reply.started": "2025-02-27T05:18:20.511765Z",
          "shell.execute_reply": "2025-02-27T05:18:20.875153Z"
        },
        "id": "w-tBqWye2fQU"
      },
      "outputs": [],
      "execution_count": 21
    },
    {
      "cell_type": "code",
      "source": [
        "X_train, X_test, y_train, y_test = train_test_split(X, y, test_size=0.2, random_state=42)"
      ],
      "metadata": {
        "trusted": true,
        "execution": {
          "iopub.status.busy": "2025-02-27T05:18:20.877436Z",
          "iopub.execute_input": "2025-02-27T05:18:20.877807Z",
          "iopub.status.idle": "2025-02-27T05:18:21.185327Z",
          "shell.execute_reply.started": "2025-02-27T05:18:20.877764Z",
          "shell.execute_reply": "2025-02-27T05:18:21.183994Z"
        },
        "id": "1yCdJByi2fQU"
      },
      "outputs": [],
      "execution_count": 22
    },
    {
      "cell_type": "code",
      "source": [
        "import tensorflow as tf\n",
        "from tensorflow.keras.models import Sequential\n",
        "from tensorflow.keras.layers import LSTM, Dense, Dropout, BatchNormalization, Input, Masking, Bidirectional\n",
        "from tensorflow.keras.callbacks import EarlyStopping, ReduceLROnPlateau\n",
        "from sklearn.model_selection import train_test_split\n",
        "from tensorflow.keras.utils import to_categorical\n",
        "from tensorflow.keras.optimizers import Adam\n",
        "from tensorflow.keras.regularizers import L2"
      ],
      "metadata": {
        "trusted": true,
        "execution": {
          "iopub.status.busy": "2025-02-27T05:18:19.319541Z",
          "iopub.execute_input": "2025-02-27T05:18:19.319936Z",
          "iopub.status.idle": "2025-02-27T05:18:19.334507Z",
          "shell.execute_reply.started": "2025-02-27T05:18:19.319898Z",
          "shell.execute_reply": "2025-02-27T05:18:19.3336Z"
        },
        "id": "YyLx_dFq2fQT"
      },
      "outputs": [],
      "execution_count": 23
    },
    {
      "cell_type": "markdown",
      "source": [
        "### trying to find the best model architecture using keras-tuner"
      ],
      "metadata": {
        "id": "bF5EI1PssPFd"
      }
    },
    {
      "cell_type": "code",
      "source": [
        "!pip install keras-tuner"
      ],
      "metadata": {
        "colab": {
          "base_uri": "https://localhost:8080/"
        },
        "id": "xX-H-z2fsMV9",
        "outputId": "1ba941fe-fb15-4d76-f03a-a4ac4a2e6368"
      },
      "execution_count": 24,
      "outputs": [
        {
          "output_type": "stream",
          "name": "stdout",
          "text": [
            "Collecting keras-tuner\n",
            "  Downloading keras_tuner-1.4.7-py3-none-any.whl.metadata (5.4 kB)\n",
            "Requirement already satisfied: keras in /usr/local/lib/python3.11/dist-packages (from keras-tuner) (3.8.0)\n",
            "Requirement already satisfied: packaging in /usr/local/lib/python3.11/dist-packages (from keras-tuner) (24.2)\n",
            "Requirement already satisfied: requests in /usr/local/lib/python3.11/dist-packages (from keras-tuner) (2.32.3)\n",
            "Collecting kt-legacy (from keras-tuner)\n",
            "  Downloading kt_legacy-1.0.5-py3-none-any.whl.metadata (221 bytes)\n",
            "Requirement already satisfied: absl-py in /usr/local/lib/python3.11/dist-packages (from keras->keras-tuner) (1.4.0)\n",
            "Requirement already satisfied: numpy in /usr/local/lib/python3.11/dist-packages (from keras->keras-tuner) (1.26.4)\n",
            "Requirement already satisfied: rich in /usr/local/lib/python3.11/dist-packages (from keras->keras-tuner) (13.9.4)\n",
            "Requirement already satisfied: namex in /usr/local/lib/python3.11/dist-packages (from keras->keras-tuner) (0.0.8)\n",
            "Requirement already satisfied: h5py in /usr/local/lib/python3.11/dist-packages (from keras->keras-tuner) (3.12.1)\n",
            "Requirement already satisfied: optree in /usr/local/lib/python3.11/dist-packages (from keras->keras-tuner) (0.14.0)\n",
            "Requirement already satisfied: ml-dtypes in /usr/local/lib/python3.11/dist-packages (from keras->keras-tuner) (0.4.1)\n",
            "Requirement already satisfied: charset-normalizer<4,>=2 in /usr/local/lib/python3.11/dist-packages (from requests->keras-tuner) (3.4.1)\n",
            "Requirement already satisfied: idna<4,>=2.5 in /usr/local/lib/python3.11/dist-packages (from requests->keras-tuner) (3.10)\n",
            "Requirement already satisfied: urllib3<3,>=1.21.1 in /usr/local/lib/python3.11/dist-packages (from requests->keras-tuner) (2.3.0)\n",
            "Requirement already satisfied: certifi>=2017.4.17 in /usr/local/lib/python3.11/dist-packages (from requests->keras-tuner) (2025.1.31)\n",
            "Requirement already satisfied: typing-extensions>=4.5.0 in /usr/local/lib/python3.11/dist-packages (from optree->keras->keras-tuner) (4.12.2)\n",
            "Requirement already satisfied: markdown-it-py>=2.2.0 in /usr/local/lib/python3.11/dist-packages (from rich->keras->keras-tuner) (3.0.0)\n",
            "Requirement already satisfied: pygments<3.0.0,>=2.13.0 in /usr/local/lib/python3.11/dist-packages (from rich->keras->keras-tuner) (2.18.0)\n",
            "Requirement already satisfied: mdurl~=0.1 in /usr/local/lib/python3.11/dist-packages (from markdown-it-py>=2.2.0->rich->keras->keras-tuner) (0.1.2)\n",
            "Downloading keras_tuner-1.4.7-py3-none-any.whl (129 kB)\n",
            "\u001b[2K   \u001b[90m━━━━━━━━━━━━━━━━━━━━━━━━━━━━━━━━━━━━━━━━\u001b[0m \u001b[32m129.1/129.1 kB\u001b[0m \u001b[31m4.5 MB/s\u001b[0m eta \u001b[36m0:00:00\u001b[0m\n",
            "\u001b[?25hDownloading kt_legacy-1.0.5-py3-none-any.whl (9.6 kB)\n",
            "Installing collected packages: kt-legacy, keras-tuner\n",
            "Successfully installed keras-tuner-1.4.7 kt-legacy-1.0.5\n"
          ]
        }
      ]
    },
    {
      "cell_type": "code",
      "source": [
        "import kerastuner as kt"
      ],
      "metadata": {
        "colab": {
          "base_uri": "https://localhost:8080/"
        },
        "id": "UGwYCkWisMSm",
        "outputId": "6e80f229-c345-46fe-e290-0b30cf7a8467"
      },
      "execution_count": 25,
      "outputs": [
        {
          "output_type": "stream",
          "name": "stderr",
          "text": [
            "<ipython-input-25-5fd8096cdee5>:1: DeprecationWarning: `import kerastuner` is deprecated, please use `import keras_tuner`.\n",
            "  import kerastuner as kt\n"
          ]
        }
      ]
    },
    {
      "cell_type": "code",
      "source": [
        "def build_model(hp):\n",
        "    model = Sequential()\n",
        "\n",
        "    # First loop for LSTM layers\n",
        "    counter = 0\n",
        "    for i in range(hp.Int('num_layer', min_value=1, max_value=5)):\n",
        "        if counter == 0:\n",
        "            model.add(Input(shape=(60, X.shape[2])))\n",
        "            model.add(Masking(mask_value=-99999))\n",
        "            model.add(\n",
        "                Bidirectional(\n",
        "                    LSTM(\n",
        "                        hp.Int('units_' + str(i), min_value=16, max_value=128),\n",
        "                        activation=hp.Choice('activation_' + str(i), values=['relu', 'tanh']),\n",
        "                        return_sequences=True,\n",
        "                    )\n",
        "                )\n",
        "            )\n",
        "            if hp.Boolean('BatchNormalization'):\n",
        "              model.add(BatchNormalization())\n",
        "            model.add(Dropout(hp.Choice('dropout_' + str(i), values=[0.2, 0.3, 0.4, 0.5])))\n",
        "        else:\n",
        "            model.add(\n",
        "                Bidirectional(\n",
        "                    LSTM(\n",
        "                        hp.Int('units_' + str(i), min_value=16, max_value=64),\n",
        "                        activation=hp.Choice('activation_' + str(i), values=['relu', 'tanh']),\n",
        "                        return_sequences=True,\n",
        "                    )\n",
        "                )\n",
        "            )\n",
        "            if hp.Boolean('BatchNormalization'):\n",
        "              model.add(BatchNormalization())\n",
        "            model.add(Dropout(hp.Choice('dropout_' + str(i), values=[0.2, 0.3, 0.4, 0.5])))\n",
        "\n",
        "        counter += 1\n",
        "\n",
        "    # Final LSTM layer\n",
        "    model.add(\n",
        "        Bidirectional(\n",
        "            LSTM(\n",
        "                hp.Int('units_final', min_value=16, max_value=64),\n",
        "                activation=hp.Choice('activation_final', values=['relu', 'tanh']),\n",
        "                return_sequences=False,\n",
        "            )\n",
        "        )\n",
        "    )\n",
        "\n",
        "    # Reset counter for Dense layers\n",
        "    counter = 0\n",
        "\n",
        "    # Second loop for Dense layers\n",
        "    for i in range(hp.Int('num_dense_layers', min_value=1, max_value=5)):\n",
        "        if counter == 0:\n",
        "            model.add(\n",
        "                Dense(\n",
        "                    hp.Int('units_dense_' + str(i), min_value=8, max_value=256, step=8),\n",
        "                    activation=hp.Choice('activation_dense_' + str(i), values=['relu', 'tanh']),\n",
        "                    input_dim=8,\n",
        "                )\n",
        "            )\n",
        "            if hp.Boolean('BatchNormalization'):\n",
        "              model.add(BatchNormalization())\n",
        "            model.add(Dropout(hp.Choice('dropout_dense_' + str(i), values=[0.2, 0.3, 0.4, 0.5])))\n",
        "        else:\n",
        "            model.add(\n",
        "                Dense(\n",
        "                    hp.Int('units_dense_' + str(i), min_value=32, max_value=512),\n",
        "                    activation=hp.Choice('activation_dense_' + str(i), values=['relu', 'tanh']),\n",
        "                )\n",
        "            )\n",
        "            if hp.Boolean('BatchNormalization'):\n",
        "              model.add(BatchNormalization())\n",
        "            model.add(Dropout(hp.Choice('dropout_dense_' + str(i), values=[0.2, 0.3, 0.4, 0.5])))\n",
        "\n",
        "        counter += 1\n",
        "\n",
        "    model.add(Dense(28, activation='softmax'))\n",
        "\n",
        "    learning_rate = hp.Float(\"lr\", min_value=1e-4, max_value=1e-2, sampling=\"log\")\n",
        "\n",
        "    model.compile(\n",
        "        optimizer=Adam(learning_rate=learning_rate),\n",
        "        loss='categorical_crossentropy',\n",
        "        metrics=['categorical_accuracy']\n",
        "    )\n",
        "\n",
        "    return model"
      ],
      "metadata": {
        "id": "En0Awt3RsriU"
      },
      "execution_count": 26,
      "outputs": []
    },
    {
      "cell_type": "code",
      "source": [
        "tuner = kt.BayesianOptimization(build_model, objective='val_categorical_accuracy', max_trials=50, directory='first_run', project_name='signSpeak_hp')"
      ],
      "metadata": {
        "colab": {
          "base_uri": "https://localhost:8080/"
        },
        "id": "anwTHIEt0nUk",
        "outputId": "1472d341-a268-45ea-9ae3-d74252461198"
      },
      "execution_count": 28,
      "outputs": [
        {
          "output_type": "stream",
          "name": "stderr",
          "text": [
            "/usr/local/lib/python3.11/dist-packages/keras/src/layers/core/dense.py:87: UserWarning: Do not pass an `input_shape`/`input_dim` argument to a layer. When using Sequential models, prefer using an `Input(shape)` object as the first layer in the model instead.\n",
            "  super().__init__(activity_regularizer=activity_regularizer, **kwargs)\n"
          ]
        }
      ]
    },
    {
      "cell_type": "code",
      "source": [
        "tuner.search(X_train, y_train, epochs=3, validation_data=(X_test, y_test))"
      ],
      "metadata": {
        "colab": {
          "base_uri": "https://localhost:8080/"
        },
        "id": "oRj2dLD60nQ4",
        "outputId": "781c1194-0503-471d-8b53-8b50b743618e"
      },
      "execution_count": null,
      "outputs": [
        {
          "output_type": "stream",
          "name": "stdout",
          "text": [
            "Trial 39 Complete [00h 01m 03s]\n",
            "val_categorical_accuracy: 0.010989011265337467\n",
            "\n",
            "Best val_categorical_accuracy So Far: 0.09890110045671463\n",
            "Total elapsed time: 00h 51m 14s\n",
            "\n",
            "Search: Running Trial #40\n",
            "\n",
            "Value             |Best Value So Far |Hyperparameter\n",
            "5                 |1                 |num_layer\n",
            "19                |79                |units_0\n",
            "relu              |tanh              |activation_0\n",
            "False             |False             |BatchNormalization\n",
            "0.2               |0.3               |dropout_0\n",
            "19                |33                |units_final\n",
            "tanh              |tanh              |activation_final\n",
            "5                 |2                 |num_dense_layers\n",
            "248               |168               |units_dense_0\n",
            "tanh              |relu              |activation_dense_0\n",
            "0.5               |0.2               |dropout_dense_0\n",
            "0.00042144        |0.00025045        |lr\n",
            "19                |30                |units_1\n",
            "relu              |tanh              |activation_1\n",
            "0.3               |0.5               |dropout_1\n",
            "17                |54                |units_2\n",
            "tanh              |relu              |activation_2\n",
            "0.4               |0.3               |dropout_2\n",
            "124               |227               |units_dense_1\n",
            "relu              |relu              |activation_dense_1\n",
            "0.3               |0.3               |dropout_dense_1\n",
            "406               |161               |units_dense_2\n",
            "tanh              |tanh              |activation_dense_2\n",
            "0.4               |0.2               |dropout_dense_2\n",
            "229               |105               |units_dense_3\n",
            "tanh              |tanh              |activation_dense_3\n",
            "0.5               |0.4               |dropout_dense_3\n",
            "108               |325               |units_dense_4\n",
            "tanh              |tanh              |activation_dense_4\n",
            "0.2               |0.3               |dropout_dense_4\n",
            "56                |44                |units_3\n",
            "tanh              |relu              |activation_3\n",
            "0.3               |0.5               |dropout_3\n",
            "25                |48                |units_4\n",
            "tanh              |tanh              |activation_4\n",
            "0.4               |0.3               |dropout_4\n",
            "\n"
          ]
        }
      ]
    },
    {
      "cell_type": "code",
      "source": [
        "tuner.get_best_hyperparameters()[0].values"
      ],
      "metadata": {
        "colab": {
          "base_uri": "https://localhost:8080/"
        },
        "id": "UjQTH1P50nOW",
        "outputId": "c2fb4e46-8b42-41c7-bc1b-059e30252562"
      },
      "execution_count": null,
      "outputs": [
        {
          "output_type": "execute_result",
          "data": {
            "text/plain": [
              "{'num_layer': 3,\n",
              " 'units_0': 124,\n",
              " 'activation_0': 'tanh',\n",
              " 'BatchNormalization': False,\n",
              " 'dropout_0': 0.6,\n",
              " 'units_final': 97,\n",
              " 'activation_final': 'relu',\n",
              " 'num_dense_layers': 1,\n",
              " 'units_dense_0': 192,\n",
              " 'activation_dense_0': 'tanh',\n",
              " 'dropout_dense_0': 0.5,\n",
              " 'optimizer': 'adam',\n",
              " 'units_1': 75,\n",
              " 'activation_1': 'relu',\n",
              " 'dropout_1': 0.6,\n",
              " 'units_2': 80,\n",
              " 'activation_2': 'tanh',\n",
              " 'dropout_2': 0.9,\n",
              " 'units_dense_1': 56,\n",
              " 'activation_dense_1': 'sigmoid',\n",
              " 'dropout_dense_1': 0.7,\n",
              " 'units_dense_2': 120,\n",
              " 'activation_dense_2': 'relu',\n",
              " 'dropout_dense_2': 0.6,\n",
              " 'units_dense_3': 224,\n",
              " 'activation_dense_3': 'tanh',\n",
              " 'dropout_dense_3': 0.9,\n",
              " 'units_3': 122,\n",
              " 'activation_3': 'relu',\n",
              " 'dropout_3': 0.8,\n",
              " 'units_4': 115,\n",
              " 'activation_4': 'tanh',\n",
              " 'dropout_4': 0.9,\n",
              " 'units_5': 26,\n",
              " 'activation_5': 'tanh',\n",
              " 'dropout_5': 0.3,\n",
              " 'units_6': 27,\n",
              " 'activation_6': 'tanh',\n",
              " 'dropout_6': 0.7,\n",
              " 'units_7': 93,\n",
              " 'activation_7': 'relu',\n",
              " 'dropout_7': 0.7,\n",
              " 'units_8': 46,\n",
              " 'activation_8': 'relu',\n",
              " 'dropout_8': 0.7,\n",
              " 'units_9': 45,\n",
              " 'activation_9': 'tanh',\n",
              " 'dropout_9': 0.5}"
            ]
          },
          "metadata": {},
          "execution_count": 32
        }
      ]
    },
    {
      "cell_type": "code",
      "source": [
        "model = tuner.get_best_models(num_models=1)[0]"
      ],
      "metadata": {
        "colab": {
          "base_uri": "https://localhost:8080/"
        },
        "id": "xMR3xL3B0nD1",
        "outputId": "02665c68-7776-4e0e-ffdd-e869a0c69ad7"
      },
      "execution_count": null,
      "outputs": [
        {
          "output_type": "stream",
          "name": "stderr",
          "text": [
            "/usr/local/lib/python3.11/dist-packages/keras/src/saving/saving_lib.py:757: UserWarning: Skipping variable loading for optimizer 'adam', because it has 2 variables whereas the saved optimizer has 58 variables. \n",
            "  saveable.load_own_variables(weights_store.get(inner_path))\n"
          ]
        }
      ]
    },
    {
      "cell_type": "code",
      "source": [
        "model.summary()"
      ],
      "metadata": {
        "trusted": true,
        "id": "vxnIXrRu2fQV",
        "colab": {
          "base_uri": "https://localhost:8080/",
          "height": 481
        },
        "outputId": "f3d7a750-945d-4f03-ec09-6e43acdf76bc"
      },
      "outputs": [
        {
          "output_type": "display_data",
          "data": {
            "text/plain": [
              "\u001b[1mModel: \"sequential\"\u001b[0m\n"
            ],
            "text/html": [
              "<pre style=\"white-space:pre;overflow-x:auto;line-height:normal;font-family:Menlo,'DejaVu Sans Mono',consolas,'Courier New',monospace\"><span style=\"font-weight: bold\">Model: \"sequential\"</span>\n",
              "</pre>\n"
            ]
          },
          "metadata": {}
        },
        {
          "output_type": "display_data",
          "data": {
            "text/plain": [
              "┏━━━━━━━━━━━━━━━━━━━━━━━━━━━━━━━━━━━━━━┳━━━━━━━━━━━━━━━━━━━━━━━━━━━━━┳━━━━━━━━━━━━━━━━━┓\n",
              "┃\u001b[1m \u001b[0m\u001b[1mLayer (type)                        \u001b[0m\u001b[1m \u001b[0m┃\u001b[1m \u001b[0m\u001b[1mOutput Shape               \u001b[0m\u001b[1m \u001b[0m┃\u001b[1m \u001b[0m\u001b[1m        Param #\u001b[0m\u001b[1m \u001b[0m┃\n",
              "┡━━━━━━━━━━━━━━━━━━━━━━━━━━━━━━━━━━━━━━╇━━━━━━━━━━━━━━━━━━━━━━━━━━━━━╇━━━━━━━━━━━━━━━━━┩\n",
              "│ masking (\u001b[38;5;33mMasking\u001b[0m)                    │ (\u001b[38;5;45mNone\u001b[0m, \u001b[38;5;34m60\u001b[0m, \u001b[38;5;34m1662\u001b[0m)            │               \u001b[38;5;34m0\u001b[0m │\n",
              "├──────────────────────────────────────┼─────────────────────────────┼─────────────────┤\n",
              "│ bidirectional (\u001b[38;5;33mBidirectional\u001b[0m)        │ (\u001b[38;5;45mNone\u001b[0m, \u001b[38;5;34m60\u001b[0m, \u001b[38;5;34m248\u001b[0m)             │       \u001b[38;5;34m1,772,704\u001b[0m │\n",
              "├──────────────────────────────────────┼─────────────────────────────┼─────────────────┤\n",
              "│ dropout (\u001b[38;5;33mDropout\u001b[0m)                    │ (\u001b[38;5;45mNone\u001b[0m, \u001b[38;5;34m60\u001b[0m, \u001b[38;5;34m248\u001b[0m)             │               \u001b[38;5;34m0\u001b[0m │\n",
              "├──────────────────────────────────────┼─────────────────────────────┼─────────────────┤\n",
              "│ bidirectional_1 (\u001b[38;5;33mBidirectional\u001b[0m)      │ (\u001b[38;5;45mNone\u001b[0m, \u001b[38;5;34m60\u001b[0m, \u001b[38;5;34m150\u001b[0m)             │         \u001b[38;5;34m194,400\u001b[0m │\n",
              "├──────────────────────────────────────┼─────────────────────────────┼─────────────────┤\n",
              "│ dropout_1 (\u001b[38;5;33mDropout\u001b[0m)                  │ (\u001b[38;5;45mNone\u001b[0m, \u001b[38;5;34m60\u001b[0m, \u001b[38;5;34m150\u001b[0m)             │               \u001b[38;5;34m0\u001b[0m │\n",
              "├──────────────────────────────────────┼─────────────────────────────┼─────────────────┤\n",
              "│ bidirectional_2 (\u001b[38;5;33mBidirectional\u001b[0m)      │ (\u001b[38;5;45mNone\u001b[0m, \u001b[38;5;34m60\u001b[0m, \u001b[38;5;34m160\u001b[0m)             │         \u001b[38;5;34m147,840\u001b[0m │\n",
              "├──────────────────────────────────────┼─────────────────────────────┼─────────────────┤\n",
              "│ dropout_2 (\u001b[38;5;33mDropout\u001b[0m)                  │ (\u001b[38;5;45mNone\u001b[0m, \u001b[38;5;34m60\u001b[0m, \u001b[38;5;34m160\u001b[0m)             │               \u001b[38;5;34m0\u001b[0m │\n",
              "├──────────────────────────────────────┼─────────────────────────────┼─────────────────┤\n",
              "│ bidirectional_3 (\u001b[38;5;33mBidirectional\u001b[0m)      │ (\u001b[38;5;45mNone\u001b[0m, \u001b[38;5;34m194\u001b[0m)                 │         \u001b[38;5;34m200,208\u001b[0m │\n",
              "├──────────────────────────────────────┼─────────────────────────────┼─────────────────┤\n",
              "│ dense (\u001b[38;5;33mDense\u001b[0m)                        │ (\u001b[38;5;45mNone\u001b[0m, \u001b[38;5;34m192\u001b[0m)                 │          \u001b[38;5;34m37,440\u001b[0m │\n",
              "├──────────────────────────────────────┼─────────────────────────────┼─────────────────┤\n",
              "│ dropout_3 (\u001b[38;5;33mDropout\u001b[0m)                  │ (\u001b[38;5;45mNone\u001b[0m, \u001b[38;5;34m192\u001b[0m)                 │               \u001b[38;5;34m0\u001b[0m │\n",
              "├──────────────────────────────────────┼─────────────────────────────┼─────────────────┤\n",
              "│ dense_1 (\u001b[38;5;33mDense\u001b[0m)                      │ (\u001b[38;5;45mNone\u001b[0m, \u001b[38;5;34m28\u001b[0m)                  │           \u001b[38;5;34m5,404\u001b[0m │\n",
              "└──────────────────────────────────────┴─────────────────────────────┴─────────────────┘\n"
            ],
            "text/html": [
              "<pre style=\"white-space:pre;overflow-x:auto;line-height:normal;font-family:Menlo,'DejaVu Sans Mono',consolas,'Courier New',monospace\">┏━━━━━━━━━━━━━━━━━━━━━━━━━━━━━━━━━━━━━━┳━━━━━━━━━━━━━━━━━━━━━━━━━━━━━┳━━━━━━━━━━━━━━━━━┓\n",
              "┃<span style=\"font-weight: bold\"> Layer (type)                         </span>┃<span style=\"font-weight: bold\"> Output Shape                </span>┃<span style=\"font-weight: bold\">         Param # </span>┃\n",
              "┡━━━━━━━━━━━━━━━━━━━━━━━━━━━━━━━━━━━━━━╇━━━━━━━━━━━━━━━━━━━━━━━━━━━━━╇━━━━━━━━━━━━━━━━━┩\n",
              "│ masking (<span style=\"color: #0087ff; text-decoration-color: #0087ff\">Masking</span>)                    │ (<span style=\"color: #00d7ff; text-decoration-color: #00d7ff\">None</span>, <span style=\"color: #00af00; text-decoration-color: #00af00\">60</span>, <span style=\"color: #00af00; text-decoration-color: #00af00\">1662</span>)            │               <span style=\"color: #00af00; text-decoration-color: #00af00\">0</span> │\n",
              "├──────────────────────────────────────┼─────────────────────────────┼─────────────────┤\n",
              "│ bidirectional (<span style=\"color: #0087ff; text-decoration-color: #0087ff\">Bidirectional</span>)        │ (<span style=\"color: #00d7ff; text-decoration-color: #00d7ff\">None</span>, <span style=\"color: #00af00; text-decoration-color: #00af00\">60</span>, <span style=\"color: #00af00; text-decoration-color: #00af00\">248</span>)             │       <span style=\"color: #00af00; text-decoration-color: #00af00\">1,772,704</span> │\n",
              "├──────────────────────────────────────┼─────────────────────────────┼─────────────────┤\n",
              "│ dropout (<span style=\"color: #0087ff; text-decoration-color: #0087ff\">Dropout</span>)                    │ (<span style=\"color: #00d7ff; text-decoration-color: #00d7ff\">None</span>, <span style=\"color: #00af00; text-decoration-color: #00af00\">60</span>, <span style=\"color: #00af00; text-decoration-color: #00af00\">248</span>)             │               <span style=\"color: #00af00; text-decoration-color: #00af00\">0</span> │\n",
              "├──────────────────────────────────────┼─────────────────────────────┼─────────────────┤\n",
              "│ bidirectional_1 (<span style=\"color: #0087ff; text-decoration-color: #0087ff\">Bidirectional</span>)      │ (<span style=\"color: #00d7ff; text-decoration-color: #00d7ff\">None</span>, <span style=\"color: #00af00; text-decoration-color: #00af00\">60</span>, <span style=\"color: #00af00; text-decoration-color: #00af00\">150</span>)             │         <span style=\"color: #00af00; text-decoration-color: #00af00\">194,400</span> │\n",
              "├──────────────────────────────────────┼─────────────────────────────┼─────────────────┤\n",
              "│ dropout_1 (<span style=\"color: #0087ff; text-decoration-color: #0087ff\">Dropout</span>)                  │ (<span style=\"color: #00d7ff; text-decoration-color: #00d7ff\">None</span>, <span style=\"color: #00af00; text-decoration-color: #00af00\">60</span>, <span style=\"color: #00af00; text-decoration-color: #00af00\">150</span>)             │               <span style=\"color: #00af00; text-decoration-color: #00af00\">0</span> │\n",
              "├──────────────────────────────────────┼─────────────────────────────┼─────────────────┤\n",
              "│ bidirectional_2 (<span style=\"color: #0087ff; text-decoration-color: #0087ff\">Bidirectional</span>)      │ (<span style=\"color: #00d7ff; text-decoration-color: #00d7ff\">None</span>, <span style=\"color: #00af00; text-decoration-color: #00af00\">60</span>, <span style=\"color: #00af00; text-decoration-color: #00af00\">160</span>)             │         <span style=\"color: #00af00; text-decoration-color: #00af00\">147,840</span> │\n",
              "├──────────────────────────────────────┼─────────────────────────────┼─────────────────┤\n",
              "│ dropout_2 (<span style=\"color: #0087ff; text-decoration-color: #0087ff\">Dropout</span>)                  │ (<span style=\"color: #00d7ff; text-decoration-color: #00d7ff\">None</span>, <span style=\"color: #00af00; text-decoration-color: #00af00\">60</span>, <span style=\"color: #00af00; text-decoration-color: #00af00\">160</span>)             │               <span style=\"color: #00af00; text-decoration-color: #00af00\">0</span> │\n",
              "├──────────────────────────────────────┼─────────────────────────────┼─────────────────┤\n",
              "│ bidirectional_3 (<span style=\"color: #0087ff; text-decoration-color: #0087ff\">Bidirectional</span>)      │ (<span style=\"color: #00d7ff; text-decoration-color: #00d7ff\">None</span>, <span style=\"color: #00af00; text-decoration-color: #00af00\">194</span>)                 │         <span style=\"color: #00af00; text-decoration-color: #00af00\">200,208</span> │\n",
              "├──────────────────────────────────────┼─────────────────────────────┼─────────────────┤\n",
              "│ dense (<span style=\"color: #0087ff; text-decoration-color: #0087ff\">Dense</span>)                        │ (<span style=\"color: #00d7ff; text-decoration-color: #00d7ff\">None</span>, <span style=\"color: #00af00; text-decoration-color: #00af00\">192</span>)                 │          <span style=\"color: #00af00; text-decoration-color: #00af00\">37,440</span> │\n",
              "├──────────────────────────────────────┼─────────────────────────────┼─────────────────┤\n",
              "│ dropout_3 (<span style=\"color: #0087ff; text-decoration-color: #0087ff\">Dropout</span>)                  │ (<span style=\"color: #00d7ff; text-decoration-color: #00d7ff\">None</span>, <span style=\"color: #00af00; text-decoration-color: #00af00\">192</span>)                 │               <span style=\"color: #00af00; text-decoration-color: #00af00\">0</span> │\n",
              "├──────────────────────────────────────┼─────────────────────────────┼─────────────────┤\n",
              "│ dense_1 (<span style=\"color: #0087ff; text-decoration-color: #0087ff\">Dense</span>)                      │ (<span style=\"color: #00d7ff; text-decoration-color: #00d7ff\">None</span>, <span style=\"color: #00af00; text-decoration-color: #00af00\">28</span>)                  │           <span style=\"color: #00af00; text-decoration-color: #00af00\">5,404</span> │\n",
              "└──────────────────────────────────────┴─────────────────────────────┴─────────────────┘\n",
              "</pre>\n"
            ]
          },
          "metadata": {}
        },
        {
          "output_type": "display_data",
          "data": {
            "text/plain": [
              "\u001b[1m Total params: \u001b[0m\u001b[38;5;34m2,357,996\u001b[0m (9.00 MB)\n"
            ],
            "text/html": [
              "<pre style=\"white-space:pre;overflow-x:auto;line-height:normal;font-family:Menlo,'DejaVu Sans Mono',consolas,'Courier New',monospace\"><span style=\"font-weight: bold\"> Total params: </span><span style=\"color: #00af00; text-decoration-color: #00af00\">2,357,996</span> (9.00 MB)\n",
              "</pre>\n"
            ]
          },
          "metadata": {}
        },
        {
          "output_type": "display_data",
          "data": {
            "text/plain": [
              "\u001b[1m Trainable params: \u001b[0m\u001b[38;5;34m2,357,996\u001b[0m (9.00 MB)\n"
            ],
            "text/html": [
              "<pre style=\"white-space:pre;overflow-x:auto;line-height:normal;font-family:Menlo,'DejaVu Sans Mono',consolas,'Courier New',monospace\"><span style=\"font-weight: bold\"> Trainable params: </span><span style=\"color: #00af00; text-decoration-color: #00af00\">2,357,996</span> (9.00 MB)\n",
              "</pre>\n"
            ]
          },
          "metadata": {}
        },
        {
          "output_type": "display_data",
          "data": {
            "text/plain": [
              "\u001b[1m Non-trainable params: \u001b[0m\u001b[38;5;34m0\u001b[0m (0.00 B)\n"
            ],
            "text/html": [
              "<pre style=\"white-space:pre;overflow-x:auto;line-height:normal;font-family:Menlo,'DejaVu Sans Mono',consolas,'Courier New',monospace\"><span style=\"font-weight: bold\"> Non-trainable params: </span><span style=\"color: #00af00; text-decoration-color: #00af00\">0</span> (0.00 B)\n",
              "</pre>\n"
            ]
          },
          "metadata": {}
        }
      ],
      "execution_count": null
    },
    {
      "cell_type": "code",
      "source": [
        "# Callbacks for better training\n",
        "early_stop = EarlyStopping(monitor='val_loss', patience=5, restore_best_weights=True)\n",
        "reduce_lr = ReduceLROnPlateau(monitor='val_loss', factor=0.6, patience=5, verbose=1)"
      ],
      "metadata": {
        "trusted": true,
        "execution": {
          "iopub.status.busy": "2025-02-27T05:19:13.033835Z",
          "iopub.execute_input": "2025-02-27T05:19:13.034289Z",
          "iopub.status.idle": "2025-02-27T05:19:13.039193Z",
          "shell.execute_reply.started": "2025-02-27T05:19:13.03423Z",
          "shell.execute_reply": "2025-02-27T05:19:13.03805Z"
        },
        "id": "pzPzZ96l2fQU"
      },
      "outputs": [],
      "execution_count": null
    },
    {
      "cell_type": "code",
      "source": [
        "history = model.fit(X_train, y_train, epochs=100, initial_epoch=3, batch_size=16, validation_data=(X_test, y_test), callbacks=[early_stop, reduce_lr])"
      ],
      "metadata": {
        "colab": {
          "base_uri": "https://localhost:8080/"
        },
        "id": "3wTWiuZoFSan",
        "outputId": "0038b5ad-1120-44df-b251-78ff07123bfc"
      },
      "execution_count": null,
      "outputs": [
        {
          "output_type": "stream",
          "name": "stdout",
          "text": [
            "Epoch 4/100\n",
            "\u001b[1m23/23\u001b[0m \u001b[32m━━━━━━━━━━━━━━━━━━━━\u001b[0m\u001b[37m\u001b[0m \u001b[1m48s\u001b[0m 2s/step - categorical_accuracy: 0.0294 - loss: 3.5075 - val_categorical_accuracy: 0.0330 - val_loss: 3.3354 - learning_rate: 0.0010\n",
            "Epoch 5/100\n",
            "\u001b[1m23/23\u001b[0m \u001b[32m━━━━━━━━━━━━━━━━━━━━\u001b[0m\u001b[37m\u001b[0m \u001b[1m36s\u001b[0m 1s/step - categorical_accuracy: 0.0794 - loss: 3.4672 - val_categorical_accuracy: 0.0220 - val_loss: 3.3433 - learning_rate: 0.0010\n",
            "Epoch 6/100\n",
            "\u001b[1m23/23\u001b[0m \u001b[32m━━━━━━━━━━━━━━━━━━━━\u001b[0m\u001b[37m\u001b[0m \u001b[1m40s\u001b[0m 1s/step - categorical_accuracy: 0.0340 - loss: 3.4234 - val_categorical_accuracy: 0.0330 - val_loss: 3.3559 - learning_rate: 0.0010\n",
            "Epoch 7/100\n",
            "\u001b[1m23/23\u001b[0m \u001b[32m━━━━━━━━━━━━━━━━━━━━\u001b[0m\u001b[37m\u001b[0m \u001b[1m40s\u001b[0m 1s/step - categorical_accuracy: 0.0299 - loss: 3.4941 - val_categorical_accuracy: 0.0330 - val_loss: 3.3265 - learning_rate: 0.0010\n",
            "Epoch 8/100\n",
            "\u001b[1m23/23\u001b[0m \u001b[32m━━━━━━━━━━━━━━━━━━━━\u001b[0m\u001b[37m\u001b[0m \u001b[1m29s\u001b[0m 1s/step - categorical_accuracy: 0.0467 - loss: 3.4210 - val_categorical_accuracy: 0.0549 - val_loss: 3.3361 - learning_rate: 0.0010\n",
            "Epoch 9/100\n",
            "\u001b[1m23/23\u001b[0m \u001b[32m━━━━━━━━━━━━━━━━━━━━\u001b[0m\u001b[37m\u001b[0m \u001b[1m41s\u001b[0m 1s/step - categorical_accuracy: 0.0459 - loss: 3.3918 - val_categorical_accuracy: 0.0549 - val_loss: 3.3205 - learning_rate: 0.0010\n",
            "Epoch 10/100\n",
            "\u001b[1m23/23\u001b[0m \u001b[32m━━━━━━━━━━━━━━━━━━━━\u001b[0m\u001b[37m\u001b[0m \u001b[1m41s\u001b[0m 1s/step - categorical_accuracy: 0.0242 - loss: 3.4249 - val_categorical_accuracy: 0.0549 - val_loss: 3.3279 - learning_rate: 0.0010\n",
            "Epoch 11/100\n",
            "\u001b[1m23/23\u001b[0m \u001b[32m━━━━━━━━━━━━━━━━━━━━\u001b[0m\u001b[37m\u001b[0m \u001b[1m41s\u001b[0m 1s/step - categorical_accuracy: 0.0156 - loss: 3.3489 - val_categorical_accuracy: 0.0440 - val_loss: 3.3238 - learning_rate: 0.0010\n",
            "Epoch 12/100\n",
            "\u001b[1m23/23\u001b[0m \u001b[32m━━━━━━━━━━━━━━━━━━━━\u001b[0m\u001b[37m\u001b[0m \u001b[1m41s\u001b[0m 1s/step - categorical_accuracy: 0.0225 - loss: 3.3728 - val_categorical_accuracy: 0.0989 - val_loss: 3.3234 - learning_rate: 0.0010\n",
            "Epoch 13/100\n",
            "\u001b[1m23/23\u001b[0m \u001b[32m━━━━━━━━━━━━━━━━━━━━\u001b[0m\u001b[37m\u001b[0m \u001b[1m28s\u001b[0m 1s/step - categorical_accuracy: 0.0707 - loss: 3.3588 - val_categorical_accuracy: 0.0440 - val_loss: 3.3053 - learning_rate: 0.0010\n",
            "Epoch 14/100\n",
            "\u001b[1m23/23\u001b[0m \u001b[32m━━━━━━━━━━━━━━━━━━━━\u001b[0m\u001b[37m\u001b[0m \u001b[1m29s\u001b[0m 1s/step - categorical_accuracy: 0.0374 - loss: 3.3568 - val_categorical_accuracy: 0.0549 - val_loss: 3.3270 - learning_rate: 0.0010\n",
            "Epoch 15/100\n",
            "\u001b[1m23/23\u001b[0m \u001b[32m━━━━━━━━━━━━━━━━━━━━\u001b[0m\u001b[37m\u001b[0m \u001b[1m41s\u001b[0m 1s/step - categorical_accuracy: 0.0349 - loss: 3.3670 - val_categorical_accuracy: 0.0330 - val_loss: 3.3199 - learning_rate: 0.0010\n",
            "Epoch 16/100\n",
            "\u001b[1m23/23\u001b[0m \u001b[32m━━━━━━━━━━━━━━━━━━━━\u001b[0m\u001b[37m\u001b[0m \u001b[1m39s\u001b[0m 1s/step - categorical_accuracy: 0.0335 - loss: 3.3968 - val_categorical_accuracy: 0.0440 - val_loss: 3.3303 - learning_rate: 0.0010\n",
            "Epoch 17/100\n",
            "\u001b[1m23/23\u001b[0m \u001b[32m━━━━━━━━━━━━━━━━━━━━\u001b[0m\u001b[37m\u001b[0m \u001b[1m28s\u001b[0m 1s/step - categorical_accuracy: 0.0333 - loss: 3.3712 - val_categorical_accuracy: 0.0330 - val_loss: 3.3113 - learning_rate: 0.0010\n",
            "Epoch 18/100\n",
            "\u001b[1m23/23\u001b[0m \u001b[32m━━━━━━━━━━━━━━━━━━━━\u001b[0m\u001b[37m\u001b[0m \u001b[1m0s\u001b[0m 1s/step - categorical_accuracy: 0.0394 - loss: 3.3309\n",
            "Epoch 18: ReduceLROnPlateau reducing learning rate to 0.0006000000284984708.\n",
            "\u001b[1m23/23\u001b[0m \u001b[32m━━━━━━━━━━━━━━━━━━━━\u001b[0m\u001b[37m\u001b[0m \u001b[1m29s\u001b[0m 1s/step - categorical_accuracy: 0.0398 - loss: 3.3306 - val_categorical_accuracy: 0.0330 - val_loss: 3.3192 - learning_rate: 0.0010\n"
          ]
        }
      ]
    },
    {
      "cell_type": "code",
      "source": [
        "# Plot Accuracy & Loss\n",
        "import matplotlib.pyplot as plt\n",
        "\n",
        "plt.figure(figsize=(12, 5))\n",
        "\n",
        "# Plot Accuracy\n",
        "plt.subplot(1, 2, 1)\n",
        "plt.plot(history.history['categorical_accuracy'], label='Train Accuracy')\n",
        "plt.plot(history.history['val_categorical_accuracy'], label='Validation Accuracy')\n",
        "plt.xlabel('Epoch')\n",
        "plt.ylabel('Accuracy')\n",
        "plt.legend()\n",
        "\n",
        "# Plot Loss\n",
        "plt.subplot(1, 2, 2)\n",
        "plt.plot(history.history['loss'], label='Train Loss')\n",
        "plt.plot(history.history['val_loss'], label='Validation Loss')\n",
        "plt.xlabel('Epoch')\n",
        "plt.ylabel('Loss')\n",
        "plt.legend()\n",
        "\n",
        "plt.show()"
      ],
      "metadata": {
        "trusted": true,
        "id": "uHUiHFcn2fQV",
        "colab": {
          "base_uri": "https://localhost:8080/",
          "height": 398
        },
        "outputId": "d8e60489-df5c-42df-b02b-608f87cbd5a2"
      },
      "outputs": [
        {
          "output_type": "display_data",
          "data": {
            "text/plain": [
              "<Figure size 1200x500 with 2 Axes>"
            ],
            "image/png": "[encoded data removed]"
          },
          "metadata": {}
        }
      ],
      "execution_count": null
    },
    {
      "cell_type": "markdown",
      "source": [
        "## model predictions:-"
      ],
      "metadata": {
        "id": "AaXUc4jC2fQV"
      }
    },
    {
      "cell_type": "code",
      "source": [
        "res = model.predict(X_test)"
      ],
      "metadata": {
        "trusted": true,
        "id": "5LZWMIe32fQV"
      },
      "outputs": [],
      "execution_count": null
    },
    {
      "cell_type": "code",
      "source": [
        "actions[np.argmax(res[0])]"
      ],
      "metadata": {
        "trusted": true,
        "id": "8R25gXkz2fQV"
      },
      "outputs": [],
      "execution_count": null
    },
    {
      "cell_type": "markdown",
      "source": [
        "## Saving the model:-"
      ],
      "metadata": {
        "id": "qfNfUK-x2fQV"
      }
    },
    {
      "cell_type": "code",
      "source": [
        "model.save('4->hp-tuned.keras')"
      ],
      "metadata": {
        "trusted": true,
        "id": "5HMSO-q_2fQV"
      },
      "outputs": [],
      "execution_count": null
    },
    {
      "cell_type": "code",
      "source": [
        "model"
      ],
      "metadata": {
        "trusted": true,
        "id": "jdyFcF3d2fQW"
      },
      "outputs": [],
      "execution_count": null
    },
    {
      "cell_type": "code",
      "source": [
        "del model"
      ],
      "metadata": {
        "trusted": true,
        "id": "fUxl0sgB2fQW"
      },
      "outputs": [],
      "execution_count": null
    },
    {
      "cell_type": "code",
      "source": [
        "model = load_model('/kaggle/working/sl_sign.keras')"
      ],
      "metadata": {
        "trusted": true,
        "id": "NlhqjS_O2fQW"
      },
      "outputs": [],
      "execution_count": null
    },
    {
      "cell_type": "markdown",
      "source": [
        "## Evaluating using Confusion Matrix and Accuracy:-"
      ],
      "metadata": {
        "id": "ktBfAf6H2fQW"
      }
    },
    {
      "cell_type": "code",
      "source": [
        "from sklearn.metrics import multilabel_confusion_matrix, accuracy_score"
      ],
      "metadata": {
        "trusted": true,
        "id": "GvE02J1k2fQW"
      },
      "outputs": [],
      "execution_count": null
    },
    {
      "cell_type": "code",
      "source": [
        "yhat = model.predict(X_train)"
      ],
      "metadata": {
        "trusted": true,
        "id": "ZoukuhNt2fQb"
      },
      "outputs": [],
      "execution_count": null
    },
    {
      "cell_type": "code",
      "source": [
        "ytrue = np.argmax(y_train, axis=1).tolist()\n",
        "yhat = np.argmax(yhat, axis=1).tolist()"
      ],
      "metadata": {
        "trusted": true,
        "id": "S5CBExUV2fQb"
      },
      "outputs": [],
      "execution_count": null
    },
    {
      "cell_type": "code",
      "source": [
        "accuracy_score(ytrue, yhat)"
      ],
      "metadata": {
        "trusted": true,
        "id": "Eh-rhNRX2fQb"
      },
      "outputs": [],
      "execution_count": null
    },
    {
      "cell_type": "code",
      "source": [
        "multilabel_confusion_matrix(ytrue, yhat)"
      ],
      "metadata": {
        "trusted": true,
        "id": "QXumwllJ2fQb"
      },
      "outputs": [],
      "execution_count": null
    },
    {
      "cell_type": "code",
      "source": [
        "accuracy_score(ytrue, yhat)"
      ],
      "metadata": {
        "trusted": true,
        "id": "3I7FfsjT2fQb"
      },
      "outputs": [],
      "execution_count": null
    },
    {
      "cell_type": "code",
      "source": [],
      "metadata": {
        "trusted": true,
        "id": "0CFlrEZK2fQc"
      },
      "outputs": [],
      "execution_count": null
    }
  ]
}